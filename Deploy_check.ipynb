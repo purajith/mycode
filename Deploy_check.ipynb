{
 "cells": [
  {
   "cell_type": "code",
   "execution_count": 161,
   "id": "dbdab63b",
   "metadata": {},
   "outputs": [],
   "source": [
    "import pandas as pd\n",
    "import numpy as np\n",
    "import pickle\n",
    "import joblib"
   ]
  },
  {
   "cell_type": "code",
   "execution_count": 2,
   "id": "b726577c",
   "metadata": {},
   "outputs": [],
   "source": [
    "# model checking"
   ]
  },
  {
   "cell_type": "code",
   "execution_count": 192,
   "id": "f1e7761b",
   "metadata": {},
   "outputs": [],
   "source": [
    "import warnings\n",
    "warnings.filterwarnings(\"ignore\")"
   ]
  },
  {
   "cell_type": "code",
   "execution_count": 193,
   "id": "7d32ab7e",
   "metadata": {},
   "outputs": [
    {
     "data": {
      "text/plain": [
       "(1, 5)"
      ]
     },
     "execution_count": 193,
     "metadata": {},
     "output_type": "execute_result"
    }
   ],
   "source": [
    "z=[1,2,3,4,5]\n",
    "Z =np.array([z])\n",
    "Z.shape"
   ]
  },
  {
   "cell_type": "code",
   "execution_count": 194,
   "id": "7a7cbe3d",
   "metadata": {},
   "outputs": [],
   "source": [
    "open_sc = joblib.load(\"BTC(Open)_lr_sc.pkl\")\n",
    "close_sc = joblib.load(\"Close_lr_sc.pkl\")\n",
    "high = joblib.load(\"High_lr.pkl\")\n",
    "low_sc = joblib.load(\"Low_lr_sc.pkl\")\n"
   ]
  },
  {
   "cell_type": "code",
   "execution_count": 195,
   "id": "4c50f26c",
   "metadata": {},
   "outputs": [
    {
     "data": {
      "text/plain": [
       "'High'"
      ]
     },
     "execution_count": 195,
     "metadata": {},
     "output_type": "execute_result"
    }
   ],
   "source": [
    "models = [open_sc, high, low_sc, close_sc]\n",
    "name =[\"Open\", \"High\", \"Low\", \"Close\"]\n",
    "name[1]"
   ]
  },
  {
   "cell_type": "code",
   "execution_count": 209,
   "id": "c17a7317",
   "metadata": {},
   "outputs": [],
   "source": [
    "df = pd.DataFrame(columns =[\"open\",\"high\",\"low\",\"close\",\"cripto\"])"
   ]
  },
  {
   "cell_type": "code",
   "execution_count": 197,
   "id": "1b74b02d",
   "metadata": {},
   "outputs": [],
   "source": [
    "var =['open', 'high', 'low', 'close', 'cripto']"
   ]
  },
  {
   "cell_type": "markdown",
   "id": "2bc340db",
   "metadata": {},
   "source": [
    "#input"
   ]
  },
  {
   "cell_type": "code",
   "execution_count": 204,
   "id": "4dcb222c",
   "metadata": {},
   "outputs": [
    {
     "name": "stdout",
     "output_type": "stream",
     "text": [
      "Enter data 0\n",
      "10000\n",
      "Enter data 1\n",
      "15000\n",
      "Enter data 2\n",
      "90000\n",
      "Enter data 3\n",
      "12000\n",
      "Enter data 4\n",
      "1\n"
     ]
    },
    {
     "data": {
      "text/plain": [
       "(1, 5)"
      ]
     },
     "execution_count": 204,
     "metadata": {},
     "output_type": "execute_result"
    }
   ],
   "source": [
    "inp = []\n",
    "for x in range(5):\n",
    "    print(\"Enter data\", x)\n",
    "    y =  input()\n",
    "    inp.append(y)\n",
    "Z = np.array([inp])\n",
    "Z.shape"
   ]
  },
  {
   "cell_type": "code",
   "execution_count": 205,
   "id": "1695dbc0",
   "metadata": {},
   "outputs": [
    {
     "data": {
      "text/plain": [
       "['10000', '15000', '90000', '12000', '1']"
      ]
     },
     "execution_count": 205,
     "metadata": {},
     "output_type": "execute_result"
    }
   ],
   "source": [
    "inp"
   ]
  },
  {
   "cell_type": "code",
   "execution_count": 206,
   "id": "9cc94183",
   "metadata": {},
   "outputs": [
    {
     "name": "stdout",
     "output_type": "stream",
     "text": [
      "5\n",
      "Price of Today 0 open [[14190.32485746]]\n",
      "Price of Today 1 high [-1304.60039075]\n",
      "Price of Today 2 low [[31819.66163291]]\n",
      "Price of Today 3 close [[10359.32722252]]\n",
      "next day\n",
      "Price of Today 0 open [[10437.26902212]]\n",
      "Price of Today 1 high [6012.71979656]\n",
      "Price of Today 2 low [[18214.85581365]]\n",
      "Price of Today 3 close [[9961.15447249]]\n",
      "next day\n",
      "Price of Today 0 open [[10038.50671314]]\n",
      "Price of Today 1 high [8377.12117445]\n",
      "Price of Today 2 low [[12849.28090106]]\n",
      "Price of Today 3 close [[9769.60306331]]\n",
      "next day\n",
      "Price of Today 0 open [[9802.97841835]]\n",
      "Price of Today 1 high [9309.69442735]\n",
      "Price of Today 2 low [[10768.11566747]]\n",
      "Price of Today 3 close [[9693.90594524]]\n",
      "next day\n",
      "Price of Today 0 open [[9712.84057858]]\n",
      "Price of Today 1 high [9665.14867999]\n",
      "Price of Today 2 low [[9959.34990045]]\n",
      "Price of Today 3 close [[9660.49958838]]\n",
      "next day\n"
     ]
    }
   ],
   "source": [
    "\n",
    "c = Z[:,-1]\n",
    "days = int(input())\n",
    "for x in range(days):\n",
    "  \n",
    "    rows = []\n",
    "    for i, j  in enumerate(models):\n",
    "        pred = j.predict(Z)\n",
    "        print(\"Price of Today\",i, var[i], pred)\n",
    "        b =np.squeeze(pred)\n",
    "        rows.append(b)\n",
    "    rows.append(c)\n",
    "    rows = np.array([rows])\n",
    "    Z = rows\n",
    "    print(\"next day\")\n"
   ]
  },
  {
   "cell_type": "markdown",
   "id": "827bcf65",
   "metadata": {},
   "source": [
    "# scalling"
   ]
  },
  {
   "cell_type": "code",
   "execution_count": null,
   "id": "66c7b07e",
   "metadata": {},
   "outputs": [],
   "source": [
    "from sklearn.model_selection import train_test_split\n",
    "\n",
    "X = file.iloc[:,:-1]\n",
    "Y = file.iloc[:,-1]"
   ]
  }
 ],
 "metadata": {
  "kernelspec": {
   "display_name": "Python 3 (ipykernel)",
   "language": "python",
   "name": "python3"
  },
  "language_info": {
   "codemirror_mode": {
    "name": "ipython",
    "version": 3
   },
   "file_extension": ".py",
   "mimetype": "text/x-python",
   "name": "python",
   "nbconvert_exporter": "python",
   "pygments_lexer": "ipython3",
   "version": "3.8.12"
  }
 },
 "nbformat": 4,
 "nbformat_minor": 5
}
