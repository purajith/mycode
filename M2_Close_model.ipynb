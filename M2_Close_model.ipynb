{
 "cells": [
  {
   "cell_type": "markdown",
   "id": "0d70d3f7",
   "metadata": {},
   "source": [
    "# Model based on open value"
   ]
  },
  {
   "cell_type": "code",
   "execution_count": 1,
   "id": "44a7c6e0",
   "metadata": {},
   "outputs": [],
   "source": [
    "import pandas as pd\n",
    "import numpy as np\n",
    "import seaborn as sns \n",
    "import matplotlib.pyplot as plt "
   ]
  },
  {
   "cell_type": "code",
   "execution_count": 2,
   "id": "b0f7f8a7",
   "metadata": {},
   "outputs": [],
   "source": [
    "import warnings\n",
    "warnings.filterwarnings(\"ignore\")"
   ]
  },
  {
   "cell_type": "code",
   "execution_count": 3,
   "id": "0ed18c10",
   "metadata": {},
   "outputs": [],
   "source": [
    "data =pd.read_csv(\"Cripto_data2.csv\")"
   ]
  },
  {
   "cell_type": "code",
   "execution_count": 4,
   "id": "402eb976",
   "metadata": {},
   "outputs": [
    {
     "data": {
      "text/html": [
       "<div>\n",
       "<style scoped>\n",
       "    .dataframe tbody tr th:only-of-type {\n",
       "        vertical-align: middle;\n",
       "    }\n",
       "\n",
       "    .dataframe tbody tr th {\n",
       "        vertical-align: top;\n",
       "    }\n",
       "\n",
       "    .dataframe thead th {\n",
       "        text-align: right;\n",
       "    }\n",
       "</style>\n",
       "<table border=\"1\" class=\"dataframe\">\n",
       "  <thead>\n",
       "    <tr style=\"text-align: right;\">\n",
       "      <th></th>\n",
       "      <th>Unnamed: 0</th>\n",
       "      <th>Date</th>\n",
       "      <th>Open</th>\n",
       "      <th>High</th>\n",
       "      <th>Low</th>\n",
       "      <th>Close</th>\n",
       "      <th>Adj Close</th>\n",
       "      <th>Volume</th>\n",
       "      <th>Cripto</th>\n",
       "    </tr>\n",
       "  </thead>\n",
       "  <tbody>\n",
       "    <tr>\n",
       "      <th>0</th>\n",
       "      <td>0</td>\n",
       "      <td>2014-10-30</td>\n",
       "      <td>335.709015</td>\n",
       "      <td>350.912994</td>\n",
       "      <td>335.071991</td>\n",
       "      <td>345.304993</td>\n",
       "      <td>345.304993</td>\n",
       "      <td>30177900.0</td>\n",
       "      <td>BTC</td>\n",
       "    </tr>\n",
       "    <tr>\n",
       "      <th>1</th>\n",
       "      <td>1</td>\n",
       "      <td>2014-10-31</td>\n",
       "      <td>345.009003</td>\n",
       "      <td>348.045013</td>\n",
       "      <td>337.141998</td>\n",
       "      <td>338.321014</td>\n",
       "      <td>338.321014</td>\n",
       "      <td>12545400.0</td>\n",
       "      <td>BTC</td>\n",
       "    </tr>\n",
       "    <tr>\n",
       "      <th>2</th>\n",
       "      <td>2</td>\n",
       "      <td>2014-11-01</td>\n",
       "      <td>338.649994</td>\n",
       "      <td>340.528992</td>\n",
       "      <td>321.054993</td>\n",
       "      <td>325.748993</td>\n",
       "      <td>325.748993</td>\n",
       "      <td>16677200.0</td>\n",
       "      <td>BTC</td>\n",
       "    </tr>\n",
       "    <tr>\n",
       "      <th>3</th>\n",
       "      <td>3</td>\n",
       "      <td>2014-11-02</td>\n",
       "      <td>326.075012</td>\n",
       "      <td>329.049988</td>\n",
       "      <td>320.626007</td>\n",
       "      <td>325.891998</td>\n",
       "      <td>325.891998</td>\n",
       "      <td>8603620.0</td>\n",
       "      <td>BTC</td>\n",
       "    </tr>\n",
       "    <tr>\n",
       "      <th>4</th>\n",
       "      <td>4</td>\n",
       "      <td>2014-11-03</td>\n",
       "      <td>325.569000</td>\n",
       "      <td>334.002014</td>\n",
       "      <td>325.480988</td>\n",
       "      <td>327.553986</td>\n",
       "      <td>327.553986</td>\n",
       "      <td>12948500.0</td>\n",
       "      <td>BTC</td>\n",
       "    </tr>\n",
       "    <tr>\n",
       "      <th>...</th>\n",
       "      <td>...</td>\n",
       "      <td>...</td>\n",
       "      <td>...</td>\n",
       "      <td>...</td>\n",
       "      <td>...</td>\n",
       "      <td>...</td>\n",
       "      <td>...</td>\n",
       "      <td>...</td>\n",
       "      <td>...</td>\n",
       "    </tr>\n",
       "    <tr>\n",
       "      <th>9520</th>\n",
       "      <td>1528</td>\n",
       "      <td>2022-01-26</td>\n",
       "      <td>1813.814819</td>\n",
       "      <td>1861.973999</td>\n",
       "      <td>1673.215332</td>\n",
       "      <td>1706.681885</td>\n",
       "      <td>1706.681885</td>\n",
       "      <td>260720682.0</td>\n",
       "      <td>MKR</td>\n",
       "    </tr>\n",
       "    <tr>\n",
       "      <th>9521</th>\n",
       "      <td>1529</td>\n",
       "      <td>2022-01-27</td>\n",
       "      <td>1706.307983</td>\n",
       "      <td>1787.372925</td>\n",
       "      <td>1655.685669</td>\n",
       "      <td>1769.279297</td>\n",
       "      <td>1769.279297</td>\n",
       "      <td>187232810.0</td>\n",
       "      <td>MKR</td>\n",
       "    </tr>\n",
       "    <tr>\n",
       "      <th>9522</th>\n",
       "      <td>1530</td>\n",
       "      <td>2022-01-28</td>\n",
       "      <td>1768.952026</td>\n",
       "      <td>1874.516235</td>\n",
       "      <td>1736.091919</td>\n",
       "      <td>1872.471802</td>\n",
       "      <td>1872.471802</td>\n",
       "      <td>219022529.0</td>\n",
       "      <td>MKR</td>\n",
       "    </tr>\n",
       "    <tr>\n",
       "      <th>9523</th>\n",
       "      <td>1531</td>\n",
       "      <td>2022-01-29</td>\n",
       "      <td>1872.410278</td>\n",
       "      <td>1957.882324</td>\n",
       "      <td>1863.551392</td>\n",
       "      <td>1948.442749</td>\n",
       "      <td>1948.442749</td>\n",
       "      <td>93560252.0</td>\n",
       "      <td>MKR</td>\n",
       "    </tr>\n",
       "    <tr>\n",
       "      <th>9524</th>\n",
       "      <td>1532</td>\n",
       "      <td>2022-01-30</td>\n",
       "      <td>1950.592407</td>\n",
       "      <td>1971.543213</td>\n",
       "      <td>1940.510376</td>\n",
       "      <td>1946.990845</td>\n",
       "      <td>1946.990845</td>\n",
       "      <td>102377872.0</td>\n",
       "      <td>MKR</td>\n",
       "    </tr>\n",
       "  </tbody>\n",
       "</table>\n",
       "<p>9525 rows × 9 columns</p>\n",
       "</div>"
      ],
      "text/plain": [
       "      Unnamed: 0        Date         Open         High          Low  \\\n",
       "0              0  2014-10-30   335.709015   350.912994   335.071991   \n",
       "1              1  2014-10-31   345.009003   348.045013   337.141998   \n",
       "2              2  2014-11-01   338.649994   340.528992   321.054993   \n",
       "3              3  2014-11-02   326.075012   329.049988   320.626007   \n",
       "4              4  2014-11-03   325.569000   334.002014   325.480988   \n",
       "...          ...         ...          ...          ...          ...   \n",
       "9520        1528  2022-01-26  1813.814819  1861.973999  1673.215332   \n",
       "9521        1529  2022-01-27  1706.307983  1787.372925  1655.685669   \n",
       "9522        1530  2022-01-28  1768.952026  1874.516235  1736.091919   \n",
       "9523        1531  2022-01-29  1872.410278  1957.882324  1863.551392   \n",
       "9524        1532  2022-01-30  1950.592407  1971.543213  1940.510376   \n",
       "\n",
       "            Close    Adj Close       Volume Cripto  \n",
       "0      345.304993   345.304993   30177900.0    BTC  \n",
       "1      338.321014   338.321014   12545400.0    BTC  \n",
       "2      325.748993   325.748993   16677200.0    BTC  \n",
       "3      325.891998   325.891998    8603620.0    BTC  \n",
       "4      327.553986   327.553986   12948500.0    BTC  \n",
       "...           ...          ...          ...    ...  \n",
       "9520  1706.681885  1706.681885  260720682.0    MKR  \n",
       "9521  1769.279297  1769.279297  187232810.0    MKR  \n",
       "9522  1872.471802  1872.471802  219022529.0    MKR  \n",
       "9523  1948.442749  1948.442749   93560252.0    MKR  \n",
       "9524  1946.990845  1946.990845  102377872.0    MKR  \n",
       "\n",
       "[9525 rows x 9 columns]"
      ]
     },
     "execution_count": 4,
     "metadata": {},
     "output_type": "execute_result"
    }
   ],
   "source": [
    "data"
   ]
  },
  {
   "cell_type": "code",
   "execution_count": 5,
   "id": "49335555",
   "metadata": {},
   "outputs": [
    {
     "data": {
      "text/plain": [
       "1.009858"
      ]
     },
     "execution_count": 5,
     "metadata": {},
     "output_type": "execute_result"
    }
   ],
   "source": [
    "(1.024230+0.995486)/2"
   ]
  },
  {
   "cell_type": "code",
   "execution_count": 6,
   "id": "ce48ad42",
   "metadata": {},
   "outputs": [
    {
     "data": {
      "text/plain": [
       "Unnamed: 0    False\n",
       "Date          False\n",
       "Open           True\n",
       "High           True\n",
       "Low            True\n",
       "Close          True\n",
       "Adj Close      True\n",
       "Volume         True\n",
       "Cripto        False\n",
       "dtype: bool"
      ]
     },
     "execution_count": 6,
     "metadata": {},
     "output_type": "execute_result"
    }
   ],
   "source": [
    "data.isnull().any()"
   ]
  },
  {
   "cell_type": "code",
   "execution_count": 7,
   "id": "9d54f093",
   "metadata": {},
   "outputs": [
    {
     "data": {
      "text/plain": [
       "Unnamed: 0    0\n",
       "Date          0\n",
       "Open          3\n",
       "High          3\n",
       "Low           3\n",
       "Close         3\n",
       "Adj Close     3\n",
       "Volume        3\n",
       "Cripto        0\n",
       "dtype: int64"
      ]
     },
     "execution_count": 7,
     "metadata": {},
     "output_type": "execute_result"
    }
   ],
   "source": [
    "data.isnull().sum()"
   ]
  },
  {
   "cell_type": "code",
   "execution_count": 8,
   "id": "9b0314c3",
   "metadata": {},
   "outputs": [],
   "source": [
    "data.dropna(inplace =True)"
   ]
  },
  {
   "cell_type": "code",
   "execution_count": 9,
   "id": "e700f8f2",
   "metadata": {},
   "outputs": [
    {
     "data": {
      "text/plain": [
       "Unnamed: 0    0\n",
       "Date          0\n",
       "Open          0\n",
       "High          0\n",
       "Low           0\n",
       "Close         0\n",
       "Adj Close     0\n",
       "Volume        0\n",
       "Cripto        0\n",
       "dtype: int64"
      ]
     },
     "execution_count": 9,
     "metadata": {},
     "output_type": "execute_result"
    }
   ],
   "source": [
    "data.isnull().sum()"
   ]
  },
  {
   "cell_type": "code",
   "execution_count": 10,
   "id": "91ada60a",
   "metadata": {},
   "outputs": [
    {
     "data": {
      "text/plain": [
       "Index(['Unnamed: 0', 'Date', 'Open', 'High', 'Low', 'Close', 'Adj Close',\n",
       "       'Volume', 'Cripto'],\n",
       "      dtype='object')"
      ]
     },
     "execution_count": 10,
     "metadata": {},
     "output_type": "execute_result"
    }
   ],
   "source": [
    "data.columns"
   ]
  },
  {
   "cell_type": "code",
   "execution_count": 11,
   "id": "b5b827dc",
   "metadata": {},
   "outputs": [],
   "source": [
    "data.drop(['Unnamed: 0', 'Adj Close','Volume' ],axis =1, inplace =True)"
   ]
  },
  {
   "cell_type": "markdown",
   "id": "429a6830",
   "metadata": {},
   "source": [
    "# Make Closeas a target value "
   ]
  },
  {
   "cell_type": "code",
   "execution_count": 12,
   "id": "e04cf3c1",
   "metadata": {},
   "outputs": [
    {
     "data": {
      "text/html": [
       "<div>\n",
       "<style scoped>\n",
       "    .dataframe tbody tr th:only-of-type {\n",
       "        vertical-align: middle;\n",
       "    }\n",
       "\n",
       "    .dataframe tbody tr th {\n",
       "        vertical-align: top;\n",
       "    }\n",
       "\n",
       "    .dataframe thead th {\n",
       "        text-align: right;\n",
       "    }\n",
       "</style>\n",
       "<table border=\"1\" class=\"dataframe\">\n",
       "  <thead>\n",
       "    <tr style=\"text-align: right;\">\n",
       "      <th></th>\n",
       "      <th>Date</th>\n",
       "      <th>Open</th>\n",
       "      <th>High</th>\n",
       "      <th>Low</th>\n",
       "      <th>Close</th>\n",
       "      <th>Cripto</th>\n",
       "    </tr>\n",
       "  </thead>\n",
       "  <tbody>\n",
       "    <tr>\n",
       "      <th>0</th>\n",
       "      <td>2014-10-30</td>\n",
       "      <td>335.709015</td>\n",
       "      <td>350.912994</td>\n",
       "      <td>335.071991</td>\n",
       "      <td>345.304993</td>\n",
       "      <td>BTC</td>\n",
       "    </tr>\n",
       "    <tr>\n",
       "      <th>1</th>\n",
       "      <td>2014-10-31</td>\n",
       "      <td>345.009003</td>\n",
       "      <td>348.045013</td>\n",
       "      <td>337.141998</td>\n",
       "      <td>338.321014</td>\n",
       "      <td>BTC</td>\n",
       "    </tr>\n",
       "    <tr>\n",
       "      <th>2</th>\n",
       "      <td>2014-11-01</td>\n",
       "      <td>338.649994</td>\n",
       "      <td>340.528992</td>\n",
       "      <td>321.054993</td>\n",
       "      <td>325.748993</td>\n",
       "      <td>BTC</td>\n",
       "    </tr>\n",
       "    <tr>\n",
       "      <th>3</th>\n",
       "      <td>2014-11-02</td>\n",
       "      <td>326.075012</td>\n",
       "      <td>329.049988</td>\n",
       "      <td>320.626007</td>\n",
       "      <td>325.891998</td>\n",
       "      <td>BTC</td>\n",
       "    </tr>\n",
       "    <tr>\n",
       "      <th>4</th>\n",
       "      <td>2014-11-03</td>\n",
       "      <td>325.569000</td>\n",
       "      <td>334.002014</td>\n",
       "      <td>325.480988</td>\n",
       "      <td>327.553986</td>\n",
       "      <td>BTC</td>\n",
       "    </tr>\n",
       "    <tr>\n",
       "      <th>...</th>\n",
       "      <td>...</td>\n",
       "      <td>...</td>\n",
       "      <td>...</td>\n",
       "      <td>...</td>\n",
       "      <td>...</td>\n",
       "      <td>...</td>\n",
       "    </tr>\n",
       "    <tr>\n",
       "      <th>9520</th>\n",
       "      <td>2022-01-26</td>\n",
       "      <td>1813.814819</td>\n",
       "      <td>1861.973999</td>\n",
       "      <td>1673.215332</td>\n",
       "      <td>1706.681885</td>\n",
       "      <td>MKR</td>\n",
       "    </tr>\n",
       "    <tr>\n",
       "      <th>9521</th>\n",
       "      <td>2022-01-27</td>\n",
       "      <td>1706.307983</td>\n",
       "      <td>1787.372925</td>\n",
       "      <td>1655.685669</td>\n",
       "      <td>1769.279297</td>\n",
       "      <td>MKR</td>\n",
       "    </tr>\n",
       "    <tr>\n",
       "      <th>9522</th>\n",
       "      <td>2022-01-28</td>\n",
       "      <td>1768.952026</td>\n",
       "      <td>1874.516235</td>\n",
       "      <td>1736.091919</td>\n",
       "      <td>1872.471802</td>\n",
       "      <td>MKR</td>\n",
       "    </tr>\n",
       "    <tr>\n",
       "      <th>9523</th>\n",
       "      <td>2022-01-29</td>\n",
       "      <td>1872.410278</td>\n",
       "      <td>1957.882324</td>\n",
       "      <td>1863.551392</td>\n",
       "      <td>1948.442749</td>\n",
       "      <td>MKR</td>\n",
       "    </tr>\n",
       "    <tr>\n",
       "      <th>9524</th>\n",
       "      <td>2022-01-30</td>\n",
       "      <td>1950.592407</td>\n",
       "      <td>1971.543213</td>\n",
       "      <td>1940.510376</td>\n",
       "      <td>1946.990845</td>\n",
       "      <td>MKR</td>\n",
       "    </tr>\n",
       "  </tbody>\n",
       "</table>\n",
       "<p>9522 rows × 6 columns</p>\n",
       "</div>"
      ],
      "text/plain": [
       "            Date         Open         High          Low        Close Cripto\n",
       "0     2014-10-30   335.709015   350.912994   335.071991   345.304993    BTC\n",
       "1     2014-10-31   345.009003   348.045013   337.141998   338.321014    BTC\n",
       "2     2014-11-01   338.649994   340.528992   321.054993   325.748993    BTC\n",
       "3     2014-11-02   326.075012   329.049988   320.626007   325.891998    BTC\n",
       "4     2014-11-03   325.569000   334.002014   325.480988   327.553986    BTC\n",
       "...          ...          ...          ...          ...          ...    ...\n",
       "9520  2022-01-26  1813.814819  1861.973999  1673.215332  1706.681885    MKR\n",
       "9521  2022-01-27  1706.307983  1787.372925  1655.685669  1769.279297    MKR\n",
       "9522  2022-01-28  1768.952026  1874.516235  1736.091919  1872.471802    MKR\n",
       "9523  2022-01-29  1872.410278  1957.882324  1863.551392  1948.442749    MKR\n",
       "9524  2022-01-30  1950.592407  1971.543213  1940.510376  1946.990845    MKR\n",
       "\n",
       "[9522 rows x 6 columns]"
      ]
     },
     "execution_count": 12,
     "metadata": {},
     "output_type": "execute_result"
    }
   ],
   "source": [
    "#data[\"Today_USD\"] =  (data[\"Open\"] + data[\"Close\"] ) /2\n",
    "#data[\"Today_Close(USD)\"] =  (data[\"Close\"])\n",
    "data"
   ]
  },
  {
   "cell_type": "code",
   "execution_count": 13,
   "id": "fdab1eb0",
   "metadata": {},
   "outputs": [],
   "source": [
    "# making tomorrow result \n",
    "for id, crip in enumerate(data[\"Cripto\"].unique()):\n",
    "    ind_cript = data[data[\"Cripto\"] == crip]\n",
    "    ind_cript[\"Tomorrow_Close(USD)\"] =ind_cript[\"Close\"].shift(-1) \n",
    "    ind_cript.head()\n",
    "    ind_cript.dropna(inplace =True)\n",
    "    if (id ==0 ):\n",
    "        BTC =ind_cript\n",
    "    elif (id ==1 ):\n",
    "        ADA = ind_cript\n",
    "    elif (id == 2 ):\n",
    "        BNB = ind_cript\n",
    "    elif (id == 3 ):\n",
    "        ETH = ind_cript\n",
    "    elif (id == 4 ):\n",
    "        USDT = ind_cript\n",
    "        \n",
    "\n",
    "file = pd.concat([BTC,ETH, BNB, ADA, USDT])\n",
    "#files = pd.concat([BTC,ETH, BNB])"
   ]
  },
  {
   "cell_type": "code",
   "execution_count": 14,
   "id": "ffcaa055",
   "metadata": {},
   "outputs": [
    {
     "data": {
      "text/html": [
       "<div>\n",
       "<style scoped>\n",
       "    .dataframe tbody tr th:only-of-type {\n",
       "        vertical-align: middle;\n",
       "    }\n",
       "\n",
       "    .dataframe tbody tr th {\n",
       "        vertical-align: top;\n",
       "    }\n",
       "\n",
       "    .dataframe thead th {\n",
       "        text-align: right;\n",
       "    }\n",
       "</style>\n",
       "<table border=\"1\" class=\"dataframe\">\n",
       "  <thead>\n",
       "    <tr style=\"text-align: right;\">\n",
       "      <th></th>\n",
       "      <th>Date</th>\n",
       "      <th>Open</th>\n",
       "      <th>High</th>\n",
       "      <th>Low</th>\n",
       "      <th>Close</th>\n",
       "      <th>Cripto</th>\n",
       "      <th>Tomorrow_Close(USD)</th>\n",
       "    </tr>\n",
       "  </thead>\n",
       "  <tbody>\n",
       "    <tr>\n",
       "      <th>0</th>\n",
       "      <td>2014-10-30</td>\n",
       "      <td>335.709015</td>\n",
       "      <td>350.912994</td>\n",
       "      <td>335.071991</td>\n",
       "      <td>345.304993</td>\n",
       "      <td>BTC</td>\n",
       "      <td>338.321014</td>\n",
       "    </tr>\n",
       "    <tr>\n",
       "      <th>1</th>\n",
       "      <td>2014-10-31</td>\n",
       "      <td>345.009003</td>\n",
       "      <td>348.045013</td>\n",
       "      <td>337.141998</td>\n",
       "      <td>338.321014</td>\n",
       "      <td>BTC</td>\n",
       "      <td>325.748993</td>\n",
       "    </tr>\n",
       "    <tr>\n",
       "      <th>2</th>\n",
       "      <td>2014-11-01</td>\n",
       "      <td>338.649994</td>\n",
       "      <td>340.528992</td>\n",
       "      <td>321.054993</td>\n",
       "      <td>325.748993</td>\n",
       "      <td>BTC</td>\n",
       "      <td>325.891998</td>\n",
       "    </tr>\n",
       "    <tr>\n",
       "      <th>3</th>\n",
       "      <td>2014-11-02</td>\n",
       "      <td>326.075012</td>\n",
       "      <td>329.049988</td>\n",
       "      <td>320.626007</td>\n",
       "      <td>325.891998</td>\n",
       "      <td>BTC</td>\n",
       "      <td>327.553986</td>\n",
       "    </tr>\n",
       "    <tr>\n",
       "      <th>4</th>\n",
       "      <td>2014-11-03</td>\n",
       "      <td>325.569000</td>\n",
       "      <td>334.002014</td>\n",
       "      <td>325.480988</td>\n",
       "      <td>327.553986</td>\n",
       "      <td>BTC</td>\n",
       "      <td>330.492004</td>\n",
       "    </tr>\n",
       "  </tbody>\n",
       "</table>\n",
       "</div>"
      ],
      "text/plain": [
       "         Date        Open        High         Low       Close Cripto  \\\n",
       "0  2014-10-30  335.709015  350.912994  335.071991  345.304993    BTC   \n",
       "1  2014-10-31  345.009003  348.045013  337.141998  338.321014    BTC   \n",
       "2  2014-11-01  338.649994  340.528992  321.054993  325.748993    BTC   \n",
       "3  2014-11-02  326.075012  329.049988  320.626007  325.891998    BTC   \n",
       "4  2014-11-03  325.569000  334.002014  325.480988  327.553986    BTC   \n",
       "\n",
       "   Tomorrow_Close(USD)  \n",
       "0           338.321014  \n",
       "1           325.748993  \n",
       "2           325.891998  \n",
       "3           327.553986  \n",
       "4           330.492004  "
      ]
     },
     "execution_count": 14,
     "metadata": {},
     "output_type": "execute_result"
    }
   ],
   "source": [
    "file.head()"
   ]
  },
  {
   "cell_type": "code",
   "execution_count": 15,
   "id": "ff760fab",
   "metadata": {},
   "outputs": [
    {
     "name": "stdout",
     "output_type": "stream",
     "text": [
      "The cripto  BTC  is = 0\n",
      "The cripto  LTC  is = 1\n",
      "The cripto  BNB  is = 2\n",
      "The cripto  ETH  is = 3\n",
      "The cripto  MKR  is = 4\n"
     ]
    }
   ],
   "source": [
    "for x, y in enumerate(data[\"Cripto\"].unique()):\n",
    "    file[\"Cripto\"] = file[\"Cripto\"].replace({y:  x})\n",
    "    print(\"The cripto \", y, \" is =\", x)\n",
    "    "
   ]
  },
  {
   "cell_type": "code",
   "execution_count": 16,
   "id": "a6a48998",
   "metadata": {},
   "outputs": [
    {
     "data": {
      "text/plain": [
       "array([0, 3, 2, 1, 4], dtype=int64)"
      ]
     },
     "execution_count": 16,
     "metadata": {},
     "output_type": "execute_result"
    }
   ],
   "source": [
    "file[\"Cripto\"].unique()"
   ]
  },
  {
   "cell_type": "code",
   "execution_count": 17,
   "id": "a9906e6f",
   "metadata": {},
   "outputs": [
    {
     "data": {
      "text/plain": [
       "Index(['Date', 'Open', 'High', 'Low', 'Close', 'Cripto',\n",
       "       'Tomorrow_Close(USD)'],\n",
       "      dtype='object')"
      ]
     },
     "execution_count": 17,
     "metadata": {},
     "output_type": "execute_result"
    }
   ],
   "source": [
    "file.columns"
   ]
  },
  {
   "cell_type": "code",
   "execution_count": 18,
   "id": "d77b7c5e",
   "metadata": {},
   "outputs": [],
   "source": [
    "file.drop([\"Date\"], inplace =True, axis =True)"
   ]
  },
  {
   "cell_type": "markdown",
   "id": "d0352d9d",
   "metadata": {},
   "source": [
    "# Scaling"
   ]
  },
  {
   "cell_type": "code",
   "execution_count": 19,
   "id": "0ed14174",
   "metadata": {},
   "outputs": [
    {
     "data": {
      "text/html": [
       "<div>\n",
       "<style scoped>\n",
       "    .dataframe tbody tr th:only-of-type {\n",
       "        vertical-align: middle;\n",
       "    }\n",
       "\n",
       "    .dataframe tbody tr th {\n",
       "        vertical-align: top;\n",
       "    }\n",
       "\n",
       "    .dataframe thead th {\n",
       "        text-align: right;\n",
       "    }\n",
       "</style>\n",
       "<table border=\"1\" class=\"dataframe\">\n",
       "  <thead>\n",
       "    <tr style=\"text-align: right;\">\n",
       "      <th></th>\n",
       "      <th>Open</th>\n",
       "      <th>High</th>\n",
       "      <th>Low</th>\n",
       "      <th>Close</th>\n",
       "      <th>Cripto</th>\n",
       "      <th>Tomorrow_Close(USD)</th>\n",
       "    </tr>\n",
       "  </thead>\n",
       "  <tbody>\n",
       "    <tr>\n",
       "      <th>0</th>\n",
       "      <td>335.709015</td>\n",
       "      <td>350.912994</td>\n",
       "      <td>335.071991</td>\n",
       "      <td>345.304993</td>\n",
       "      <td>0</td>\n",
       "      <td>338.321014</td>\n",
       "    </tr>\n",
       "    <tr>\n",
       "      <th>1</th>\n",
       "      <td>345.009003</td>\n",
       "      <td>348.045013</td>\n",
       "      <td>337.141998</td>\n",
       "      <td>338.321014</td>\n",
       "      <td>0</td>\n",
       "      <td>325.748993</td>\n",
       "    </tr>\n",
       "    <tr>\n",
       "      <th>2</th>\n",
       "      <td>338.649994</td>\n",
       "      <td>340.528992</td>\n",
       "      <td>321.054993</td>\n",
       "      <td>325.748993</td>\n",
       "      <td>0</td>\n",
       "      <td>325.891998</td>\n",
       "    </tr>\n",
       "    <tr>\n",
       "      <th>3</th>\n",
       "      <td>326.075012</td>\n",
       "      <td>329.049988</td>\n",
       "      <td>320.626007</td>\n",
       "      <td>325.891998</td>\n",
       "      <td>0</td>\n",
       "      <td>327.553986</td>\n",
       "    </tr>\n",
       "    <tr>\n",
       "      <th>4</th>\n",
       "      <td>325.569000</td>\n",
       "      <td>334.002014</td>\n",
       "      <td>325.480988</td>\n",
       "      <td>327.553986</td>\n",
       "      <td>0</td>\n",
       "      <td>330.492004</td>\n",
       "    </tr>\n",
       "  </tbody>\n",
       "</table>\n",
       "</div>"
      ],
      "text/plain": [
       "         Open        High         Low       Close  Cripto  Tomorrow_Close(USD)\n",
       "0  335.709015  350.912994  335.071991  345.304993       0           338.321014\n",
       "1  345.009003  348.045013  337.141998  338.321014       0           325.748993\n",
       "2  338.649994  340.528992  321.054993  325.748993       0           325.891998\n",
       "3  326.075012  329.049988  320.626007  325.891998       0           327.553986\n",
       "4  325.569000  334.002014  325.480988  327.553986       0           330.492004"
      ]
     },
     "execution_count": 19,
     "metadata": {},
     "output_type": "execute_result"
    }
   ],
   "source": [
    "file.head()"
   ]
  },
  {
   "cell_type": "code",
   "execution_count": 20,
   "id": "11fd40c6",
   "metadata": {},
   "outputs": [],
   "source": [
    "from sklearn.model_selection import train_test_split\n",
    "\n",
    "X = file.iloc[:,:-1]\n",
    "Y = file.iloc[:,-1]"
   ]
  },
  {
   "cell_type": "code",
   "execution_count": 21,
   "id": "aaabe4f3",
   "metadata": {},
   "outputs": [
    {
     "data": {
      "text/plain": [
       "(array([[0.00494754, 0.00507836, 0.00502571, 0.00508833, 0.        ],\n",
       "        [0.00508522, 0.00503667, 0.00505689, 0.00498496, 0.        ],\n",
       "        [0.00499108, 0.0049274 , 0.00481455, 0.00479889, 0.        ],\n",
       "        ...,\n",
       "        [0.02523822, 0.02596077, 0.02492028, 0.02616385, 1.        ],\n",
       "        [0.02616561, 0.0272276 , 0.02613157, 0.02769115, 1.        ],\n",
       "        [0.02769723, 0.02843953, 0.0280517 , 0.02881556, 1.        ]]),\n",
       " array([[0.00498496],\n",
       "        [0.00479889],\n",
       "        [0.00480101],\n",
       "        ...,\n",
       "        [0.02769115],\n",
       "        [0.02881556],\n",
       "        [0.02879407]]))"
      ]
     },
     "execution_count": 21,
     "metadata": {},
     "output_type": "execute_result"
    }
   ],
   "source": [
    "from sklearn.preprocessing import MinMaxScaler\n",
    "#sc = MinMaxScaler()\n",
    "scaler_x = MinMaxScaler()\n",
    "scaler_y = MinMaxScaler()\n",
    "\n",
    "scaler_x.fit(X)\n",
    "X_sc = scaler_x.transform(X)\n",
    "Y_sc = scaler_y.fit(file[[\"Tomorrow_Close(USD)\"]])\n",
    "Y_sc =scaler_y.fit_transform(file[[\"Tomorrow_Close(USD)\"]])\n",
    "X_sc,Y_sc\n"
   ]
  },
  {
   "cell_type": "code",
   "execution_count": 22,
   "id": "c455a121",
   "metadata": {},
   "outputs": [
    {
     "data": {
      "text/plain": [
       "(             Open         High          Low        Close  Cripto\n",
       " 0      335.709015   350.912994   335.071991   345.304993       0\n",
       " 1      345.009003   348.045013   337.141998   338.321014       0\n",
       " 2      338.649994   340.528992   321.054993   325.748993       0\n",
       " 3      326.075012   329.049988   320.626007   325.891998       0\n",
       " 4      325.569000   334.002014   325.480988   327.553986       0\n",
       " ...           ...          ...          ...          ...     ...\n",
       " 9519  1923.388916  1937.598755  1800.128052  1814.199219       4\n",
       " 9520  1813.814819  1861.973999  1673.215332  1706.681885       4\n",
       " 9521  1706.307983  1787.372925  1655.685669  1769.279297       4\n",
       " 9522  1768.952026  1874.516235  1736.091919  1872.471802       4\n",
       " 9523  1872.410278  1957.882324  1863.551392  1948.442749       4\n",
       " \n",
       " [9517 rows x 5 columns],\n",
       " 0        338.321014\n",
       " 1        325.748993\n",
       " 2        325.891998\n",
       " 3        327.553986\n",
       " 4        330.492004\n",
       "            ...     \n",
       " 9519    1706.681885\n",
       " 9520    1769.279297\n",
       " 9521    1872.471802\n",
       " 9522    1948.442749\n",
       " 9523    1946.990845\n",
       " Name: Tomorrow_Close(USD), Length: 9517, dtype: float64)"
      ]
     },
     "execution_count": 22,
     "metadata": {},
     "output_type": "execute_result"
    }
   ],
   "source": [
    "X,Y"
   ]
  },
  {
   "cell_type": "code",
   "execution_count": 23,
   "id": "e92e81c9",
   "metadata": {},
   "outputs": [],
   "source": [
    "#scaler_x.inverse_transform(X_sc)\n",
    "#scaler_y.inverse_transform(Y_sc)\n"
   ]
  },
  {
   "cell_type": "code",
   "execution_count": 24,
   "id": "ead2acf7",
   "metadata": {},
   "outputs": [],
   "source": [
    "X_train,X_test, Y_train, Y_test = train_test_split( X_sc, Y_sc,test_size = 0.2, random_state = 42)"
   ]
  },
  {
   "cell_type": "markdown",
   "id": "2f3461a2",
   "metadata": {},
   "source": [
    "# machine learning algarithams comparitions"
   ]
  },
  {
   "cell_type": "code",
   "execution_count": 25,
   "id": "0a6d3860",
   "metadata": {},
   "outputs": [],
   "source": [
    "from sklearn.linear_model import LinearRegression\n",
    "from sklearn.svm import SVR\n",
    "from sklearn.linear_model import SGDRegressor\n",
    "from sklearn.linear_model import Lasso\n",
    "from xgboost import XGBRegressor\n",
    "from sklearn.linear_model import Ridge \n",
    "#from sklearn.ensemble import RandomForestRegressor\n",
    "from sklearn.ensemble import RandomForestRegressor \n",
    "lr = LinearRegression()\n",
    "svr =SVR()\n",
    "sgdr = SGDRegressor()\n",
    "ls = Lasso()\n",
    "xgbr = XGBRegressor()\n",
    "r = Ridge()\n",
    "rfr = RandomForestRegressor()\n",
    "\n",
    "alg = [lr, svr, sgdr, ls, xgbr, r,rfr]"
   ]
  },
  {
   "cell_type": "code",
   "execution_count": 26,
   "id": "8e1a6772",
   "metadata": {},
   "outputs": [],
   "source": [
    "from sklearn.metrics import mean_squared_error\n",
    "from sklearn.metrics import mean_absolute_error\n",
    "from sklearn.metrics import r2_score\n",
    "\n",
    "from math import sqrt\n",
    "\n",
    "#rms = sqrt(mean_squared_error(y_actual, y_predicted))"
   ]
  },
  {
   "cell_type": "code",
   "execution_count": 27,
   "id": "53e01f40",
   "metadata": {},
   "outputs": [
    {
     "name": "stdout",
     "output_type": "stream",
     "text": [
      "LinearRegression() \n",
      " mse =  3.3666146384774134e-05 ;  rms =  0.005802253560882541  mae =  0.0015257394747382694 R2 =  0.9981153520600605\n",
      "\n",
      "SVR() \n",
      " mse =  0.007093441791641655 ;  rms =  0.08422257293411105  mae =  0.08142895529937454 R2 =  0.6029055328487549\n",
      "\n",
      "SGDRegressor() \n",
      " mse =  7.99272949153164e-05 ;  rms =  0.008940206648356423  mae =  0.005223211148789624 R2 =  0.9955256295156131\n",
      "\n",
      "Lasso() \n",
      " mse =  0.0178781579762708 ;  rms =  0.13370922921126574  mae =  0.07024065949232298 R2 =  -0.000828345923456375\n",
      "\n",
      "XGBRegressor(base_score=0.5, booster='gbtree', colsample_bylevel=1,\n",
      "             colsample_bynode=1, colsample_bytree=1, enable_categorical=False,\n",
      "             gamma=0, gpu_id=-1, importance_type=None,\n",
      "             interaction_constraints='', learning_rate=0.300000012,\n",
      "             max_delta_step=0, max_depth=6, min_child_weight=1, missing=nan,\n",
      "             monotone_constraints='()', n_estimators=100, n_jobs=4,\n",
      "             num_parallel_tree=1, predictor='auto', random_state=0, reg_alpha=0,\n",
      "             reg_lambda=1, scale_pos_weight=1, subsample=1, tree_method='exact',\n",
      "             validate_parameters=1, verbosity=None) \n",
      " mse =  5.434213485854275e-05 ;  rms =  0.007371711799747922  mae =  0.001905330416656513 R2 =  0.9969578997446711\n",
      "\n",
      "Ridge() \n",
      " mse =  4.3401741994889264e-05 ;  rms =  0.006587999847820981  mae =  0.0017942351389205768 R2 =  0.9975703484828473\n",
      "\n",
      "RandomForestRegressor() \n",
      " mse =  4.001527668640846e-05 ;  rms =  0.006325762933149523  mae =  0.0017197627164824204 R2 =  0.9977599245274104\n",
      "\n"
     ]
    }
   ],
   "source": [
    "for  x in alg:\n",
    "    x.fit(X_train, Y_train)\n",
    "    predict = x.predict(X_test)\n",
    "    mse = mean_squared_error(Y_test, predict)\n",
    "    rms = np.sqrt(mse)\n",
    "    mae = mean_absolute_error(Y_test, predict)\n",
    "    r2 = r2_score(Y_test, predict)\n",
    "\n",
    "    print(x,\"\\n mse = \",mse,\";  rms = \",rms,\" mae = \", mae, \"R2 = \",r2)\n",
    "    print()\n"
   ]
  },
  {
   "cell_type": "markdown",
   "id": "fad0121d",
   "metadata": {},
   "source": [
    "# Prediction Testiong"
   ]
  },
  {
   "cell_type": "code",
   "execution_count": 35,
   "id": "5c429f0d",
   "metadata": {},
   "outputs": [
    {
     "name": "stdout",
     "output_type": "stream",
     "text": [
      "RandomForestRegressor() \n",
      " mse =  3.3666146384774134e-05 ;  rms =  0.005802253560882541  mse =  0.0015257394747382694 R2 =  0.9981153520600605\n",
      "\n"
     ]
    }
   ],
   "source": [
    "\n",
    "lr.fit(X_train, Y_train)\n",
    "predictlr = lr.predict(X_test)\n",
    "mse = mean_squared_error(Y_test, predictlr)\n",
    "rms = np.sqrt(mse)\n",
    "mae = mean_absolute_error(Y_test, predictlr)\n",
    "r2 = r2_score(Y_test, predictlr)\n",
    "\n",
    "print(x,\"\\n mse = \",mse,\";  rms = \",rms,\" mse = \", mae, \"R2 = \",r2)\n",
    "print()\n"
   ]
  },
  {
   "cell_type": "code",
   "execution_count": 36,
   "id": "2b4612dd",
   "metadata": {},
   "outputs": [
    {
     "data": {
      "text/plain": [
       "array([[   32.713165],\n",
       "       [ 8078.203125],\n",
       "       [   82.396004],\n",
       "       [  461.630249],\n",
       "       [  229.776001],\n",
       "       [  465.581757],\n",
       "       [  114.679001],\n",
       "       [  740.828979],\n",
       "       [13546.522461],\n",
       "       [11506.865234],\n",
       "       [  466.088989],\n",
       "       [  130.056656],\n",
       "       [  493.164795],\n",
       "       [ 7550.900879],\n",
       "       [   56.041016],\n",
       "       [  545.331543],\n",
       "       [ 2705.409912],\n",
       "       [10868.400391],\n",
       "       [  579.513489],\n",
       "       [ 6773.879883]])"
      ]
     },
     "execution_count": 36,
     "metadata": {},
     "output_type": "execute_result"
    }
   ],
   "source": [
    "scaler_y.inverse_transform(Y_test)[:20]"
   ]
  },
  {
   "cell_type": "code",
   "execution_count": 37,
   "id": "cf82ba94",
   "metadata": {},
   "outputs": [
    {
     "data": {
      "text/plain": [
       "array([[   38.28266664],\n",
       "       [ 8243.34511786],\n",
       "       [   95.62326838],\n",
       "       [  491.2532455 ],\n",
       "       [  230.21831033],\n",
       "       [  450.44145314],\n",
       "       [  141.27218067],\n",
       "       [  741.82048075],\n",
       "       [13432.39795143],\n",
       "       [11532.70216509],\n",
       "       [  474.40106141],\n",
       "       [  135.27151299],\n",
       "       [  494.48062419],\n",
       "       [ 7427.06766694],\n",
       "       [   67.84353404],\n",
       "       [  547.90556221],\n",
       "       [ 2699.83786217],\n",
       "       [10971.14250797],\n",
       "       [  590.60388034],\n",
       "       [ 6857.61076515]])"
      ]
     },
     "execution_count": 37,
     "metadata": {},
     "output_type": "execute_result"
    }
   ],
   "source": [
    "scaler_y.inverse_transform(predictlrr)[:20]"
   ]
  },
  {
   "cell_type": "code",
   "execution_count": 38,
   "id": "052d90f8",
   "metadata": {},
   "outputs": [
    {
     "name": "stdout",
     "output_type": "stream",
     "text": [
      "Enter  Open value\n",
      "5\n",
      "Enter  High value\n",
      "5\n",
      "Enter  Low value\n",
      "5\n",
      "Enter  Close value\n",
      "5\n",
      "Enter  Cripto value\n",
      "0\n",
      "input is : ['5', '5', '5', '5', '0']\n"
     ]
    }
   ],
   "source": [
    "z= []\n",
    "for x in (file.iloc[:,:-1].columns):\n",
    "    print(\"Enter \",x, \"value\")\n",
    "    a= input()\n",
    "    z.append(a)\n",
    "print(\"input is :\" , z )"
   ]
  },
  {
   "cell_type": "code",
   "execution_count": 40,
   "id": "48505722",
   "metadata": {},
   "outputs": [
    {
     "name": "stdout",
     "output_type": "stream",
     "text": [
      "our enterd input \n"
     ]
    },
    {
     "data": {
      "text/plain": [
       "array([[0.00025404]])"
      ]
     },
     "execution_count": 40,
     "metadata": {},
     "output_type": "execute_result"
    }
   ],
   "source": [
    "a =[1,2,3,4,5]\n",
    "A =np.array([z])\n",
    "#A.shape\n",
    "test_input = scaler_x.transform(A)# input to \n",
    "print(\"our enterd input \")\n",
    "pred =lr.predict(test_input)# predicting \n",
    "real = scaler_y.inverse_transform(pred) #insverse scaling\n",
    "pred\n"
   ]
  },
  {
   "cell_type": "code",
   "execution_count": 41,
   "id": "9f1387d3",
   "metadata": {},
   "outputs": [
    {
     "data": {
      "text/plain": [
       "['Close_lr_sc.pkl']"
      ]
     },
     "execution_count": 41,
     "metadata": {},
     "output_type": "execute_result"
    }
   ],
   "source": [
    "import joblib\n",
    "joblib.dump(lr,\"Close_lr_sc.pkl\")"
   ]
  },
  {
   "cell_type": "code",
   "execution_count": null,
   "id": "00992b2d",
   "metadata": {},
   "outputs": [],
   "source": []
  },
  {
   "cell_type": "code",
   "execution_count": null,
   "id": "6c1bd297",
   "metadata": {},
   "outputs": [],
   "source": []
  }
 ],
 "metadata": {
  "kernelspec": {
   "display_name": "Python 3 (ipykernel)",
   "language": "python",
   "name": "python3"
  },
  "language_info": {
   "codemirror_mode": {
    "name": "ipython",
    "version": 3
   },
   "file_extension": ".py",
   "mimetype": "text/x-python",
   "name": "python",
   "nbconvert_exporter": "python",
   "pygments_lexer": "ipython3",
   "version": "3.8.12"
  }
 },
 "nbformat": 4,
 "nbformat_minor": 5
}
